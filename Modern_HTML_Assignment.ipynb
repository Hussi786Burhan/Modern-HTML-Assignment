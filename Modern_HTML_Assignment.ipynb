{
  "nbformat": 4,
  "nbformat_minor": 0,
  "metadata": {
    "colab": {
      "provenance": []
    },
    "kernelspec": {
      "name": "python3",
      "display_name": "Python 3"
    },
    "language_info": {
      "name": "python"
    }
  },
  "cells": [
    {
      "cell_type": "markdown",
      "source": [
        "Q:1 List out the features of HTML5\n",
        "\n",
        "Ans- HTML (HyperText Markup Language) has several key features:\n",
        "\n",
        "Simple & Easy to Learn – Uses straightforward syntax.\n",
        "\n",
        "Platform Independent – Works on all devices and browsers.\n",
        "\n",
        "Multimedia Support – Can embed images, audio, and video.\n",
        "\n",
        "Hyperlinking – Allows linking between different web pages.\n",
        "\n",
        "Semantic Elements – Improves readability and SEO with <header>, <article>, <section>, etc.\n",
        "\n",
        "Forms & Input Elements – Supports user input with <form>, <input>, <textarea>, etc.\n",
        "\n",
        "Responsive Design Support – Works with CSS and JavaScript for modern web development.\n",
        "\n",
        "Storage & APIs – HTML5 introduced local storage, geolocation, and offline web applications.\n",
        "\n"
      ],
      "metadata": {
        "id": "ynuyEoiUyyFy"
      }
    },
    {
      "cell_type": "markdown",
      "source": [
        "Q:2  What are HTML Entities? List out 5 commonly used HTML entities\n",
        "\n",
        "Ans- HTML entities are special codes used to display reserved characters or symbols in HTML. They are useful when displaying characters that might be misinterpreted as code.\n",
        "\n",
        "Five commonly used HTML entities:\n",
        "\n",
        "&lt; → < (Less than)\n",
        "\n",
        "&gt; → > (Greater than)\n",
        "\n",
        "&amp; → & (Ampersand)\n",
        "\n",
        "&quot; → \" (Double quotes)\n",
        "\n",
        "&apos; → ' (Single quote)\n",
        "\n"
      ],
      "metadata": {
        "id": "D_IyOBxDzM0A"
      }
    },
    {
      "cell_type": "markdown",
      "source": [
        "Q:3 > Define accessibility in the context of web development. Discuss why it's essential to create accessible\n",
        "websites and how it benefits different user group\"\n",
        "\n",
        "Ans- Web accessibility ensures that websites are usable by people with disabilities, including visual, auditory, motor, and cognitive impairments.\n",
        "\n",
        "Importance of accessibility:\n",
        "\n",
        "Inclusivity – Enables access for people with disabilities.\n",
        "\n",
        "Legal Compliance – Many countries have laws mandating accessible websites (e.g., WCAG guidelines).\n",
        "\n",
        "Better User Experience – Helps all users, including those using screen readers or voice commands.\n",
        "\n",
        "SEO Benefits – Improves search rankings as search engines favor accessible websites.\n",
        "\n",
        "Wider Audience Reach – Expands potential user base, including elderly users and those with temporary impairments.\n",
        "\n",
        "\n",
        "\n"
      ],
      "metadata": {
        "id": "f2zy6c8zzfaJ"
      }
    },
    {
      "cell_type": "markdown",
      "source": [
        "Q:4 List any 3 ways which help us in improving the accessibility of HTMl\n",
        "\n",
        "Ans- Use Semantic HTML Tags – Elements like <nav>, <article>, <aside>, etc., improve screen reader compatibility.\n",
        "\n",
        "Provide Alternative Text for Images – Use alt attributes in <img> tags to describe images for visually impaired users.\n",
        "\n",
        "Ensure Keyboard Navigation – Design websites that allow users to navigate using only the keyboard (e.g., tabindex attribute).\n"
      ],
      "metadata": {
        "id": "DOu-E1qb4jFG"
      }
    },
    {
      "cell_type": "markdown",
      "source": [],
      "metadata": {
        "id": "aWpoalzy4oDX"
      }
    },
    {
      "cell_type": "markdown",
      "source": [
        " Q:5 Create a web page that highlights the features of HTML5. Use appropriate semantic tags to structure the\n",
        "content and showcase at least three key features of HTML5 with explanations\n"
      ],
      "metadata": {
        "id": "V3o_SwHZ4oFl"
      }
    },
    {
      "cell_type": "code",
      "source": [
        "from IPython.core.display import display, HTML\n",
        "\n",
        "html_code = \"\"\"\n",
        "<!DOCTYPE html>\n",
        "<html lang=\"en\">\n",
        "<head>\n",
        "    <meta charset=\"UTF-8\">\n",
        "    <meta name=\"viewport\" content=\"width=device-width, initial-scale=1.0\">\n",
        "    <title>HTML5 Features</title>\n",
        "</head>\n",
        "<body>\n",
        "    <header>\n",
        "        <h1>HTML5 Features</h1>\n",
        "    </header>\n",
        "    <section>\n",
        "        <h2>1. Semantic Elements</h2>\n",
        "        <p>HTML5 introduces new elements like <code>&lt;header&gt;</code>, <code>&lt;nav&gt;</code>, <code>&lt;article&gt;</code>, making it easier to structure a web page.</p>\n",
        "    </section>\n",
        "    <section>\n",
        "        <h2>2. Multimedia Support</h2>\n",
        "        <p>HTML5 supports embedding audio and video without external plugins.</p>\n",
        "        <video controls width=\"320\">\n",
        "            <source src=\"https://www.w3schools.com/html/mov_bbb.mp4\" type=\"video/mp4\">\n",
        "            Your browser does not support the video tag.\n",
        "        </video>\n",
        "    </section>\n",
        "    <section>\n",
        "        <h2>3. Offline Web Applications</h2>\n",
        "        <p>With local storage and service workers, HTML5 allows offline access to web pages.</p>\n",
        "    </section>\n",
        "</body>\n",
        "</html>\n",
        "\"\"\"\n",
        "\n",
        "display(HTML(html_code))\n"
      ],
      "metadata": {
        "id": "ZVoaSVsC2jB_"
      },
      "execution_count": null,
      "outputs": []
    },
    {
      "cell_type": "markdown",
      "source": [
        "Q:6 Create a simple web page which has a table. The table must have 2 columns HTML and HTML5. The table\n",
        "should include a minimum of three rows describing the differences between HTML and HTML5."
      ],
      "metadata": {
        "id": "FcTnk08j2o79"
      }
    },
    {
      "cell_type": "code",
      "source": [
        "from IPython.core.display import display, HTML\n",
        "\n",
        "html_code = \"\"\"\n",
        "<!DOCTYPE html>\n",
        "<html lang=\"en\">\n",
        "<head>\n",
        "    <meta charset=\"UTF-8\">\n",
        "    <meta name=\"viewport\" content=\"width=device-width, initial-scale=1.0\">\n",
        "    <title>HTML vs. HTML5</title>\n",
        "    <style>\n",
        "        table {\n",
        "            border-collapse: collapse;\n",
        "            width: 80%;\n",
        "            margin: 20px 0;\n",
        "        }\n",
        "        th, td {\n",
        "            border: 1px solid #333;\n",
        "            padding: 10px;\n",
        "            text-align: left;\n",
        "        }\n",
        "        th {\n",
        "            background-color: #f2f2f2;\n",
        "        }\n",
        "    </style>\n",
        "</head>\n",
        "<body>\n",
        "    <h1>Difference Between HTML and HTML5</h1>\n",
        "    <table>\n",
        "        <tr>\n",
        "            <th>HTML</th>\n",
        "            <th>HTML5</th>\n",
        "        </tr>\n",
        "        <tr>\n",
        "            <td>Relies on plugins for audio/video support</td>\n",
        "            <td>Supports native <code>&lt;audio&gt;</code> and <code>&lt;video&gt;</code> elements</td>\n",
        "        </tr>\n",
        "        <tr>\n",
        "            <td>No semantic elements</td>\n",
        "            <td>Introduces semantic elements like <code>&lt;header&gt;</code>, <code>&lt;article&gt;</code></td>\n",
        "        </tr>\n",
        "        <tr>\n",
        "            <td>Uses cookies for storage</td>\n",
        "            <td>Supports local storage with <code>localStorage</code> and <code>sessionStorage</code></td>\n",
        "        </tr>\n",
        "    </table>\n",
        "</body>\n",
        "</html>\n",
        "\"\"\"\n",
        "\n",
        "display(HTML(html_code))\n"
      ],
      "metadata": {
        "colab": {
          "base_uri": "https://localhost:8080/",
          "height": 317
        },
        "id": "8FhgwiBo207W",
        "outputId": "7dcb368f-5bd1-4c9a-c130-59c8719dfa1e"
      },
      "execution_count": null,
      "outputs": [
        {
          "output_type": "display_data",
          "data": {
            "text/plain": [
              "<IPython.core.display.HTML object>"
            ],
            "text/html": [
              "\n",
              "<!DOCTYPE html>\n",
              "<html lang=\"en\">\n",
              "<head>\n",
              "    <meta charset=\"UTF-8\">\n",
              "    <meta name=\"viewport\" content=\"width=device-width, initial-scale=1.0\">\n",
              "    <title>HTML vs. HTML5</title>\n",
              "    <style>\n",
              "        table {\n",
              "            border-collapse: collapse;\n",
              "            width: 80%;\n",
              "            margin: 20px 0;\n",
              "        }\n",
              "        th, td {\n",
              "            border: 1px solid #333;\n",
              "            padding: 10px;\n",
              "            text-align: left;\n",
              "        }\n",
              "        th {\n",
              "            background-color: #f2f2f2;\n",
              "        }\n",
              "    </style>\n",
              "</head>\n",
              "<body>\n",
              "    <h1>Difference Between HTML and HTML5</h1>\n",
              "    <table>\n",
              "        <tr>\n",
              "            <th>HTML</th>\n",
              "            <th>HTML5</th>\n",
              "        </tr>\n",
              "        <tr>\n",
              "            <td>Relies on plugins for audio/video support</td>\n",
              "            <td>Supports native <code>&lt;audio&gt;</code> and <code>&lt;video&gt;</code> elements</td>\n",
              "        </tr>\n",
              "        <tr>\n",
              "            <td>No semantic elements</td>\n",
              "            <td>Introduces semantic elements like <code>&lt;header&gt;</code>, <code>&lt;article&gt;</code></td>\n",
              "        </tr>\n",
              "        <tr>\n",
              "            <td>Uses cookies for storage</td>\n",
              "            <td>Supports local storage with <code>localStorage</code> and <code>sessionStorage</code></td>\n",
              "        </tr>\n",
              "    </table>\n",
              "</body>\n",
              "</html>\n"
            ]
          },
          "metadata": {}
        }
      ]
    }
  ]
}